{
 "cells": [
  {
   "cell_type": "code",
   "execution_count": 5,
   "metadata": {},
   "outputs": [],
   "source": [
    "# importando as bibliotecas\n",
    "\n",
    "import pandas as pd\n",
    "import spotipy\n",
    "from spotipy.oauth2 import SpotifyOAuth"
   ]
  },
  {
   "cell_type": "code",
   "execution_count": 9,
   "metadata": {},
   "outputs": [],
   "source": [
    "scope = \"user-library-read playlist-modify-private\"\n",
    "OAuth = SpotifyOAuth(   \n",
    "    scope=scope,\n",
    "    redirect_uri='http://localhost:2121/callback',\n",
    "    client_id='67db826513d9440a961bf1af2e6b88ca',\n",
    "    client_secret='0e381840ed5649e6985aad261a1166b6',\n",
    "    username='21mqgo57jcfv3ws43lptinixy')\n",
    "\n",
    "sp = spotipy.Spotify(auth_manager=OAuth)"
   ]
  },
  {
   "cell_type": "code",
   "execution_count": null,
   "metadata": {},
   "outputs": [],
   "source": [
    "offset = 0\n",
    "songs = []\n",
    "\n",
    "while True: \n",
    "    content = sp.current_user_saved_tracks(limit=50, offset=offsert)\n",
    "    songs +- content['items']\n",
    "    if content['next'] is not None:\n",
    "        offset +- 50\n",
    "        else:\n",
    "            break\n",
    "        "
   ]
  }
 ],
 "metadata": {
  "interpreter": {
   "hash": "d044c6e0ce06759120adefce77398d00e1228e64d92f3f185fbd024a7701b8e0"
  },
  "kernelspec": {
   "display_name": "Python 3.10.4 64-bit",
   "language": "python",
   "name": "python3"
  },
  "language_info": {
   "codemirror_mode": {
    "name": "ipython",
    "version": 3
   },
   "file_extension": ".py",
   "mimetype": "text/x-python",
   "name": "python",
   "nbconvert_exporter": "python",
   "pygments_lexer": "ipython3",
   "version": "3.10.4"
  },
  "orig_nbformat": 4
 },
 "nbformat": 4,
 "nbformat_minor": 2
}
